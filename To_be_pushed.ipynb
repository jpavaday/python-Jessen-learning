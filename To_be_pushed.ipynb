{
 "cells": [
  {
   "cell_type": "raw",
   "id": "2b446208-6a80-4253-be36-db62ae0e9462",
   "metadata": {},
   "source": [
    "print (\"what is your name?\")\n",
    "myname = input ()\n",
    "print (\"It is good to meet you\" + myname )\n",
    "print ( \"the length of your name is\")\n",
    "print (len(myname))"
   ]
  },
  {
   "cell_type": "code",
   "execution_count": null,
   "id": "ad52cda1-0d92-49c9-a795-18ae1c78b83c",
   "metadata": {},
   "outputs": [],
   "source": []
  },
  {
   "cell_type": "raw",
   "id": "ffb9cfe7-3502-4c82-a2b9-2702e3ecc12f",
   "metadata": {},
   "source": [
    "print(\"what is your name?\")\n",
    "myname = input ()\n",
    "print (\"It is good to meet you\" + myname )\n",
    "print ( \"the length of your name is\")\n",
    "print (len(myname))"
   ]
  },
  {
   "cell_type": "code",
   "execution_count": null,
   "id": "4a240c87-24a0-4cc4-8d54-25d3137f4360",
   "metadata": {},
   "outputs": [],
   "source": []
  },
  {
   "cell_type": "code",
   "execution_count": null,
   "id": "bb4a9609-dfca-40fb-bfaa-7fb4a4b0ba5a",
   "metadata": {},
   "outputs": [],
   "source": []
  },
  {
   "cell_type": "code",
   "execution_count": 37,
   "id": "fe60819d-c15c-44bd-9d17-5b989ed551b3",
   "metadata": {},
   "outputs": [
    {
     "name": "stdout",
     "output_type": "stream",
     "text": [
      "what is your name?\n"
     ]
    },
    {
     "name": "stdin",
     "output_type": "stream",
     "text": [
      " Jessen\n"
     ]
    },
    {
     "name": "stdout",
     "output_type": "stream",
     "text": [
      "Hey Jessen\n",
      "how are you?\n"
     ]
    },
    {
     "name": "stdin",
     "output_type": "stream",
     "text": [
      " good\n"
     ]
    },
    {
     "name": "stdout",
     "output_type": "stream",
     "text": [
      "good to hear\n"
     ]
    }
   ],
   "source": [
    "print(\"what is your name?\")\n",
    "myname = input ()\n",
    "print ( \"Hey \" + myname)\n",
    "print (\"how are you feeling on a scale of 1 to 10?\")\n",
    "feeling = input ()\n",
    "if feeling > 8:\n",
    "    print(\"good to hear\")\n",
    "else if feeling > 5:\n",
    "    print( \"not bad then\")\n",
    "else:\n",
    "    print (\"sorry to hear\")"
   ]
  },
  {
   "cell_type": "code",
   "execution_count": null,
   "id": "61f01b04-28a3-4c5e-be06-e96f5c817141",
   "metadata": {},
   "outputs": [],
   "source": []
  },
  {
   "cell_type": "code",
   "execution_count": null,
   "id": "29055939-6cd1-4bac-b34e-e68ee6dab630",
   "metadata": {},
   "outputs": [],
   "source": []
  },
  {
   "cell_type": "code",
   "execution_count": 69,
   "id": "0335a3b7-eddb-48a4-816f-9ecd1d775b98",
   "metadata": {},
   "outputs": [
    {
     "name": "stdout",
     "output_type": "stream",
     "text": [
      "what is your name?\n"
     ]
    },
    {
     "name": "stdin",
     "output_type": "stream",
     "text": [
      " maisha\n"
     ]
    },
    {
     "name": "stdout",
     "output_type": "stream",
     "text": [
      "Hey maisha\n",
      "how are you feeling on a scale of 1 to 10?\n"
     ]
    },
    {
     "name": "stdin",
     "output_type": "stream",
     "text": [
      " 7\n"
     ]
    },
    {
     "name": "stdout",
     "output_type": "stream",
     "text": [
      "okay then\n"
     ]
    }
   ],
   "source": [
    "print(\"what is your name?\")\n",
    "myname = input ()\n",
    "print ( \"Hey \" + myname)\n",
    "print (\"how are you feeling on a scale of 1 to 10?\")\n",
    "feeling = input()\n",
    "if int(feeling) <= 4:\n",
    "    print(\"sorry to hear\")\n",
    "elif int(feeling) >= 8:\n",
    "    print(\"Amazing news\")\n",
    "else:\n",
    "    print (\"okay then\")"
   ]
  },
  {
   "cell_type": "code",
   "execution_count": null,
   "id": "442bb330-f676-439e-9e3e-83ebe4587a07",
   "metadata": {},
   "outputs": [],
   "source": []
  },
  {
   "cell_type": "code",
   "execution_count": null,
   "id": "04ae493b-a642-4f24-a3dd-c2db9ef4baaf",
   "metadata": {},
   "outputs": [],
   "source": []
  },
  {
   "cell_type": "code",
   "execution_count": 17,
   "id": "e1e94e08-79ab-4c36-a25c-0d118d0b7b34",
   "metadata": {},
   "outputs": [
    {
     "ename": "SyntaxError",
     "evalue": "expected ':' (3301443474.py, line 5)",
     "output_type": "error",
     "traceback": [
      "\u001b[0;36m  Cell \u001b[0;32mIn[17], line 5\u001b[0;36m\u001b[0m\n\u001b[0;31m    if answer == \"good\"\u001b[0m\n\u001b[0m                       ^\u001b[0m\n\u001b[0;31mSyntaxError\u001b[0m\u001b[0;31m:\u001b[0m expected ':'\n"
     ]
    }
   ],
   "source": [
    "print(\"what is your name?\")\n",
    "myname = input ()\n",
    "print ( \"Hey\" + myname + \"how are you?\")\n",
    "answer = input ()\n",
    "if answer == \"good\"\n",
    "print (\"I am pleased to hear\")\n",
    "else \n",
    "print (\"sorry to hear, how are you feeling?\")"
   ]
  }
 ],
 "metadata": {
  "kernelspec": {
   "display_name": "Python 3 (ipykernel)",
   "language": "python",
   "name": "python3"
  },
  "language_info": {
   "codemirror_mode": {
    "name": "ipython",
    "version": 3
   },
   "file_extension": ".py",
   "mimetype": "text/x-python",
   "name": "python",
   "nbconvert_exporter": "python",
   "pygments_lexer": "ipython3",
   "version": "3.10.15"
  }
 },
 "nbformat": 4,
 "nbformat_minor": 5
}
